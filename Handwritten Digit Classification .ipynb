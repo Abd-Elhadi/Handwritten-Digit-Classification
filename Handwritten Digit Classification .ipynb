{
 "cells": [
  {
   "cell_type": "markdown",
   "id": "6bdaea2f",
   "metadata": {},
   "source": [
    "# Handwritten Digit Classification"
   ]
  },
  {
   "cell_type": "markdown",
   "id": "1d05b4d3",
   "metadata": {},
   "source": [
    "#### Imports"
   ]
  },
  {
   "cell_type": "code",
   "execution_count": 64,
   "id": "a4c6b2f6",
   "metadata": {},
   "outputs": [],
   "source": [
    "import tensorflow as tf\n",
    "from matplotlib import pyplot as plt\n",
    "import numpy as np"
   ]
  },
  {
   "cell_type": "markdown",
   "id": "b0881fbd",
   "metadata": {},
   "source": [
    "#### Download data"
   ]
  },
  {
   "cell_type": "code",
   "execution_count": 65,
   "id": "cd2f15e0",
   "metadata": {},
   "outputs": [],
   "source": [
    "data_set =  tf.keras.datasets.mnist\n",
    "(X_train, y_train) , (X_test, y_test) = data_set.load_data()"
   ]
  },
  {
   "cell_type": "markdown",
   "id": "8e68105a",
   "metadata": {},
   "source": [
    "#### Print a simple data"
   ]
  },
  {
   "cell_type": "code",
   "execution_count": 66,
   "id": "6f241759",
   "metadata": {},
   "outputs": [
    {
     "data": {
      "image/png": "[encoded data removed]",
      "text/plain": [
       "<Figure size 432x288 with 9 Axes>"
      ]
     },
     "metadata": {
      "needs_background": "light"
     },
     "output_type": "display_data"
    }
   ],
   "source": [
    "for i in range(9):\n",
    "\t# define subplot\n",
    "\tplt.subplot(330 + 1 + i)\n",
    "\t# plot raw pixel data\n",
    "\tplt.imshow(X_train[i])"
   ]
  },
  {
   "cell_type": "markdown",
   "id": "e788d32c",
   "metadata": {},
   "source": [
    "#### Normalize Data"
   ]
  },
  {
   "cell_type": "code",
   "execution_count": 67,
   "id": "cb7f1bdd",
   "metadata": {},
   "outputs": [],
   "source": [
    "X_train  = X_train / 255.0\n",
    "X_text = X_test / 255.0"
   ]
  },
  {
   "cell_type": "markdown",
   "id": "5cc0c6ee",
   "metadata": {},
   "source": [
    "###### Crate a 2 layers NN with an input node of 28 * 28 neurons and hidden layer of 128 neurons"
   ]
  },
  {
   "cell_type": "code",
   "execution_count": 68,
   "id": "bf207732",
   "metadata": {},
   "outputs": [],
   "source": [
    "model = tf.keras.models.Sequential([tf.keras.layers.Flatten(input_shape=(28,28)), \n",
    "                                    tf.keras.layers.Dense(128, activation='sigmoid'), \n",
    "                                    tf.keras.layers.Dense(10, activation=tf.nn.softmax)])"
   ]
  },
  {
   "cell_type": "code",
   "execution_count": 69,
   "id": "144e6469",
   "metadata": {},
   "outputs": [],
   "source": [
    "model.compile(optimizer = 'adam',\n",
    "              loss = 'sparse_categorical_crossentropy',\n",
    "              metrics=['accuracy'])"
   ]
  },
  {
   "cell_type": "code",
   "execution_count": 70,
   "id": "25086f4c",
   "metadata": {},
   "outputs": [
    {
     "name": "stdout",
     "output_type": "stream",
     "text": [
      "Epoch 1/5\n",
      "1875/1875 [==============================] - 6s 3ms/step - loss: 0.3972 - accuracy: 0.8968: 6s - loss: 1.6158 - accuracy:  - ETA: 4s - los - ETA: 3s - loss: 0.5849 - accuracy:  - ETA: 3s - loss: 0.5676 - accuracy: 0. - ETA: 3s - loss: 0.5564  - ETA: 2s - ETA: 1s - loss: 0.4661 - accuracy - ETA - ETA: 0s - loss:\n",
      "Epoch 2/5\n",
      "1875/1875 [==============================] - 6s 3ms/step - loss: 0.1940 - accuracy: 0.9444: 5s - loss: 0.2114 - accuracy: 0.94 - ETA: 5s - loss: 0.2125 - accura - ETA: 5s - loss: 0.2258 - accuracy: 0. - ETA: 5s - l - ETA: 4s - loss: 0.2207 - accuracy: 0. - ETA: 4s - loss: 0.2214 -  - ETA: 3s - loss: 0.2166 - accuracy: 0.93 - ETA: 3s - loss: 0.216 - ETA: 3s - loss: 0.2150 - accuracy: 0. - ETA: 2s - loss: 0.2132 - accuracy - ETA: 2s - loss: 0.2132 - accu - ETA: 2s - loss: 0.2100 -  - ETA:  - ETA: 1s - loss: 0.2 - ETA: 0s - loss: 0\n",
      "Epoch 3/5\n",
      "1875/1875 [==============================] - 7s 4ms/step - loss: 0.1414 - accuracy: 0.9597: 4s - loss: 0.1473 - accuracy - ETA: 4s - loss: 0.1471 - accuracy: 0. - ETA: 4s - loss: 0.1475 - accuracy: 0. - E - ETA: 3s - loss: 0.1486 -  - ETA:  - ETA: 1s - loss: 0.1445 - accuracy:  - ETA: 1s - loss: 0.1444  - ETA: 1s - loss: 0.1437 - accuracy - ETA: 1s - loss: 0.1433 - accura - ETA: 1s - loss: 0.1425 -  - ETA: 0s - los\n",
      "Epoch 4/5\n",
      "1875/1875 [==============================] - 6s 3ms/step - loss: 0.1095 - accuracy: 0.9686: 4s - loss: 0.1 - ETA: 3s - los - ETA: 2s - loss: 0.1145 - accuracy - ETA: 2s - loss: 0.1138 - accu - ETA: 1s - loss: 0.1108 - accuracy: 0.96 - ETA: 0s - loss: 0.1104 - accura - ETA: 0s - loss: 0 - ETA: 0s - loss: 0.1096 - accuracy: 0.96\n",
      "Epoch 5/5\n",
      "1875/1875 [==============================] - 6s 3ms/step - loss: 0.0878 - accuracy: 0.9749\n"
     ]
    },
    {
     "data": {
      "text/plain": [
       "<keras.callbacks.History at 0x24dd4dad7f0>"
      ]
     },
     "execution_count": 70,
     "metadata": {},
     "output_type": "execute_result"
    }
   ],
   "source": [
    "model.fit(X_train, y_train, epochs=5)"
   ]
  },
  {
   "cell_type": "code",
   "execution_count": 71,
   "id": "0e84472b",
   "metadata": {},
   "outputs": [
    {
     "name": "stdout",
     "output_type": "stream",
     "text": [
      "313/313 [==============================] - 1s 2ms/step - loss: 0.1069 - accuracy: 0.9669: 0s - loss: 0.1349 - accura - ETA: 0s - loss: 0.1153 - accuracy\n"
     ]
    },
    {
     "data": {
      "text/plain": [
       "[0.10685312747955322, 0.9668999910354614]"
      ]
     },
     "execution_count": 71,
     "metadata": {},
     "output_type": "execute_result"
    }
   ],
   "source": [
    "model.evaluate(X_test,y_test)"
   ]
  },
  {
   "cell_type": "code",
   "execution_count": 72,
   "id": "d4a276ee",
   "metadata": {},
   "outputs": [],
   "source": [
    "y_predicted = model.predict(X_test)"
   ]
  },
  {
   "cell_type": "code",
   "execution_count": 73,
   "id": "2e359efd",
   "metadata": {},
   "outputs": [
    {
     "data": {
      "text/plain": [
       "<matplotlib.image.AxesImage at 0x24dd54a59a0>"
      ]
     },
     "execution_count": 73,
     "metadata": {},
     "output_type": "execute_result"
    },
    {
     "data": {
      "image/png": "[encoded data removed]",
      "text/plain": [
       "<Figure size 288x288 with 1 Axes>"
      ]
     },
     "metadata": {
      "needs_background": "light"
     },
     "output_type": "display_data"
    }
   ],
   "source": [
    "plt.matshow(X_test[5])"
   ]
  },
  {
   "cell_type": "code",
   "execution_count": 74,
   "id": "2a61cee8",
   "metadata": {},
   "outputs": [
    {
     "data": {
      "text/plain": [
       "1"
      ]
     },
     "execution_count": 74,
     "metadata": {},
     "output_type": "execute_result"
    }
   ],
   "source": [
    "# argmax gets the neuron with the highest activation value\n",
    "np.argmax(y_predicted[5])"
   ]
  },
  {
   "cell_type": "markdown",
   "id": "cb263ef4",
   "metadata": {},
   "source": [
    "###### Crate a 2 layers NN with an input node of 28 * 28 neurons and hidden layer of 100 neurons"
   ]
  },
  {
   "cell_type": "code",
   "execution_count": 75,
   "id": "e7cdefec",
   "metadata": {},
   "outputs": [],
   "source": [
    "model = tf.keras.models.Sequential([\n",
    "    tf.keras.layers.Flatten(input_shape=(28, 28)),\n",
    "    tf.keras.layers.Dense(100, activation='relu'),\n",
    "    tf.keras.layers.Dense(10, activation='sigmoid')\n",
    "])"
   ]
  },
  {
   "cell_type": "code",
   "execution_count": 76,
   "id": "e62bb2b9",
   "metadata": {},
   "outputs": [],
   "source": [
    "model.compile(optimizer='adam',\n",
    "              loss='sparse_categorical_crossentropy',\n",
    "              metrics=['accuracy'])"
   ]
  },
  {
   "cell_type": "code",
   "execution_count": 77,
   "id": "546e568b",
   "metadata": {},
   "outputs": [
    {
     "name": "stdout",
     "output_type": "stream",
     "text": [
      "Epoch 1/5\n",
      "1875/1875 [==============================] - 6s 3ms/step - loss: 0.2723 - accuracy: 0.9222: 5s - loss: 0.5556 -  - ETA: 4s - loss: 0.4776 - ac - ETA: 3s - - ETA: 3s - loss: 0.3728 - accuracy:  - ETA: 2s - loss: 0.3636 - accuracy:  - ETA: 2s - loss: 0.3559 - accuracy - ETA: 2s - loss: 0.3457 - accuracy - ETA: 2s - loss: 0.3378  - ETA: 0s - l\n",
      "Epoch 2/5\n",
      "1875/1875 [==============================] - 6s 3ms/step - loss: 0.1241 - accuracy: 0.9625: 5s - loss: 0.1306 - accura - ETA: 5s - loss: 0.1322 - accuracy: 0.95 - ETA: 5s - loss: 0.1317 - ac - ETA: 4s - loss: 0.1336 - accuracy: 0.96 - ETA: 4s - loss: 0.132 - ETA - ETA: 2s - loss: 0.1321 - accuracy:  - ETA: 2s - loss: 0.1314 - accuracy: 0.96 - ETA: 2s - l - ETA: 1s - loss: 0.129 - ETA: 1s - loss: 0.1286 - accuracy: 0. - ETA: 1s - loss: 0 - ETA: 0s - loss: 0.126\n",
      "Epoch 3/5\n",
      "1875/1875 [==============================] - 6s 3ms/step - loss: 0.0860 - accuracy: 0.9746: 4s - loss: 0.0885  - ETA: 3s - loss: 0.0888 - accuracy - ETA: 3s - loss: 0.0889 - accuracy: 0. - ETA: 3s - loss: 0.0896 - ac - ETA: 2s - los - ETA: 2s - loss: 0.0883 - accuracy:  - ETA: 2s - l - ETA: 0s - loss: 0.0862 - accuracy\n",
      "Epoch 4/5\n",
      "1875/1875 [==============================] - 6s 3ms/step - loss: 0.0653 - accuracy: 0.9798: 5s - loss: 0.0620 - accuracy: 0. - ETA: 5s - loss: 0.0606 -  - ETA: 4s - loss: 0.0662 - accuracy - ETA: 4s - loss: 0.0660 - ac - ETA: 4s - loss: 0.064 - - ETA: 3s - loss: 0.0679 - accuracy: 0.97 - ETA: 3s - loss: 0.0678 - accura - ETA: 2s - loss: 0.0670 - accuracy: 0.97 - ETA: 2s - loss: 0.0672 - accu - ETA: 2s - loss: 0.0670 - ac - ETA: 2s - loss: 0.0668 - accuracy: 0.97 - ETA:  - ETA: 0s - loss: 0.0659 - accu - ETA: 0s - loss: 0.0663  - ETA: 0s - loss: 0.0658 - accuracy: 0. - ETA: 0s - loss: 0.0655 - accuracy: 0.\n",
      "Epoch 5/5\n",
      "1875/1875 [==============================] - 7s 4ms/step - loss: 0.0513 - accuracy: 0.9841: 4s - loss: 0.0 - ETA: 5s - loss: 0.052 - ETA: 4s - loss: 0.0526 - accu - ETA: 4s - loss: 0.0525 - accuracy: 0.98 - ETA: 4s - loss: 0.0524 - accuracy: 0.98 - ETA: 4s - loss: 0.0 - ETA: 4s - loss: 0.0531 - accuracy: 0. - ETA: 4s - loss: - ETA: 3s - loss: 0.0528 - accuracy - ETA: 3s - loss: 0.0534 - accuracy: 0. - ETA: 3s - loss: 0.0532 - accuracy: 0. - ETA: 3s - loss: 0.0533 - accuracy: 0. - ETA: 2s - loss: 0.0532 - accu - ETA: 2s - loss: 0.0524 - ac - ETA: 2s - loss: 0.0525 - accuracy - ETA: 1s - loss: 0.0523 -  - ETA: 1s - loss: 0.051 - ETA: 0s - loss: 0.0 - ETA: 0s - loss: 0.0514 - accuracy\n"
     ]
    },
    {
     "data": {
      "text/plain": [
       "dict_keys(['loss', 'accuracy'])"
      ]
     },
     "execution_count": 77,
     "metadata": {},
     "output_type": "execute_result"
    }
   ],
   "source": [
    "history = model.fit(X_train, y_train, epochs=5)\n",
    "history.history.keys()"
   ]
  },
  {
   "cell_type": "code",
   "execution_count": 78,
   "id": "e5ace4c5",
   "metadata": {},
   "outputs": [
    {
     "name": "stdout",
     "output_type": "stream",
     "text": [
      "313/313 [==============================] - 1s 2ms/step - loss: 12.5943 - accuracy: 0.9768\n"
     ]
    },
    {
     "data": {
      "text/plain": [
       "[12.594340324401855, 0.9768000245094299]"
      ]
     },
     "execution_count": 78,
     "metadata": {},
     "output_type": "execute_result"
    }
   ],
   "source": [
    "model.evaluate(X_test,y_test)"
   ]
  },
  {
   "cell_type": "code",
   "execution_count": 79,
   "id": "cc7faa74",
   "metadata": {},
   "outputs": [],
   "source": [
    "y_predicted = model.predict(X_test)"
   ]
  },
  {
   "cell_type": "code",
   "execution_count": 80,
   "id": "8b925c80",
   "metadata": {},
   "outputs": [
    {
     "data": {
      "text/plain": [
       "<matplotlib.image.AxesImage at 0x24dd547b160>"
      ]
     },
     "execution_count": 80,
     "metadata": {},
     "output_type": "execute_result"
    },
    {
     "data": {
      "image/png": "[encoded data removed]",
      "text/plain": [
       "<Figure size 288x288 with 1 Axes>"
      ]
     },
     "metadata": {
      "needs_background": "light"
     },
     "output_type": "display_data"
    }
   ],
   "source": [
    "plt.matshow(X_test[10])"
   ]
  },
  {
   "cell_type": "code",
   "execution_count": 81,
   "id": "ba04cdba",
   "metadata": {},
   "outputs": [
    {
     "data": {
      "text/plain": [
       "0"
      ]
     },
     "execution_count": 81,
     "metadata": {},
     "output_type": "execute_result"
    }
   ],
   "source": [
    "# argmax gets the neuron with the highest activation value\n",
    "np.argmax(y_predicted[10])"
   ]
  }
 ],
 "metadata": {
  "kernelspec": {
   "display_name": "Python 3 (ipykernel)",
   "language": "python",
   "name": "python3"
  },
  "language_info": {
   "codemirror_mode": {
    "name": "ipython",
    "version": 3
   },
   "file_extension": ".py",
   "mimetype": "text/x-python",
   "name": "python",
   "nbconvert_exporter": "python",
   "pygments_lexer": "ipython3",
   "version": "3.9.7"
  }
 },
 "nbformat": 4,
 "nbformat_minor": 5
}
